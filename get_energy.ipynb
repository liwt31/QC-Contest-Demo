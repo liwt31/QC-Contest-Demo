{
 "cells": [
  {
   "cell_type": "markdown",
   "id": "db0e934a-3ca0-4a72-846e-514730d2c066",
   "metadata": {
    "tags": []
   },
   "source": [
    "# Solution by Tencent Quantum Lab\n",
    "The key points of the solution\n",
    "- Ansatz Construction. Use hardware efficient $R_y$ ansatz to achieve extremely shallow circuit depth and short circuit duration\n",
    "- Pauli Operator Grouping. Eliminate Pauli operators based on chemical heuristics.\n",
    "- Error mitigation. Simple yet effective error mitigation with very little measurement overhead."
   ]
  },
  {
   "cell_type": "markdown",
   "id": "89b817e2-8341-4345-be0a-ba913836f24a",
   "metadata": {
    "jp-MarkdownHeadingCollapsed": true,
    "tags": []
   },
   "source": [
    "## Building the Parameterized Quantum Circuit"
   ]
  },
  {
   "cell_type": "code",
   "execution_count": 1,
   "id": "659cc236-e920-4161-9748-e0b02f2ffa4c",
   "metadata": {},
   "outputs": [],
   "source": [
    "from qiskit.providers.fake_provider import FakeMontreal\n",
    "system_model = FakeMontreal()"
   ]
  },
  {
   "cell_type": "code",
   "execution_count": 2,
   "id": "44ee927f-1a9a-4b96-b61f-a4cff643b166",
   "metadata": {},
   "outputs": [],
   "source": [
    "from qiskit import transpile, pulse, QuantumCircuit\n",
    "from qiskit.circuit import ParameterVector"
   ]
  },
  {
   "cell_type": "code",
   "execution_count": 3,
   "id": "c08ee636-e23a-43aa-8db3-c03001d70c3b",
   "metadata": {},
   "outputs": [
    {
     "data": {
      "text/html": [
       "<pre style=\"word-wrap: normal;white-space: pre;background: #fff0;line-height: 1.1;font-family: &quot;Courier New&quot;,Courier,monospace\">                                                                                                                         \n",
       "  ancilla_0 -> 0 ────────────────────────────────────────────────────────────────────────────────────────────────────────\n",
       "                 ┌────┐ ┌──────────────┐┌────┐┌────────┐     ┌────┐┌───────────────┐      ┌────┐     ┌────────┐          \n",
       "        q_0 -> 1 ┤ √X ├─┤ Rz(p[0] + π) ├┤ √X ├┤ Rz(3π) ├──■──┤ √X ├┤ Rz(p[12] + π) ├──────┤ √X ├─────┤ Rz(3π) ├──────────\n",
       "                 ├────┤ ├──────────────┤├────┤├────────┤┌─┴─┐└────┘└─────┬────┬────┘┌─────┴────┴────┐└─┬────┬─┘┌────────┐\n",
       "        q_1 -> 2 ┤ √X ├─┤ Rz(p[1] + π) ├┤ √X ├┤ Rz(3π) ├┤ X ├──■─────────┤ √X ├─────┤ Rz(p[13] + π) ├──┤ √X ├──┤ Rz(3π) ├\n",
       "                 ├────┤ ├──────────────┤├────┤├────────┤└───┘┌─┴─┐       ├────┤     ├───────────────┤┌─┴────┴─┐└─┬────┬─┘\n",
       "        q_2 -> 3 ┤ √X ├─┤ Rz(p[2] + π) ├┤ √X ├┤ Rz(3π) ├──■──┤ X ├───────┤ √X ├─────┤ Rz(p[14] + π) ├┤ Rz(-π) ├──┤ √X ├──\n",
       "                 └────┘ └──────────────┘└────┘└────────┘  │  └───┘       └────┘     └───────────────┘└────────┘  └────┘  \n",
       "  ancilla_1 -> 4 ─────────────────────────────────────────┼──────────────────────────────────────────────────────────────\n",
       "                 ┌────┐ ┌──────────────┐┌────┐┌────────┐┌─┴─┐            ┌────┐     ┌───────────────┐┌────────┐  ┌────┐  \n",
       "        q_3 -> 5 ┤ √X ├─┤ Rz(p[3] + π) ├┤ √X ├┤ Rz(3π) ├┤ X ├──■─────────┤ √X ├─────┤ Rz(p[15] + π) ├┤ Rz(-π) ├──┤ √X ├──\n",
       "                 └────┘ └──────────────┘└────┘└────────┘└───┘  │         └────┘     └───────────────┘└────────┘  └────┘  \n",
       "  ancilla_2 -> 6 ──────────────────────────────────────────────┼─────────────────────────────────────────────────────────\n",
       "                                                               │                                                         \n",
       "  ancilla_3 -> 7 ──────────────────────────────────────────────┼─────────────────────────────────────────────────────────\n",
       "                 ┌────┐ ┌──────────────┐┌────┐┌────────┐     ┌─┴─┐       ┌────┐     ┌───────────────┐┌────────┐  ┌────┐  \n",
       "        q_4 -> 8 ┤ √X ├─┤ Rz(p[4] + π) ├┤ √X ├┤ Rz(3π) ├──■──┤ X ├───────┤ √X ├─────┤ Rz(p[16] + π) ├┤ Rz(-π) ├──┤ √X ├──\n",
       "                 └────┘ └──────────────┘└────┘└────────┘  │  └───┘       └────┘     └───────────────┘└────────┘  └────┘  \n",
       "  ancilla_4 -> 9 ─────────────────────────────────────────┼──────────────────────────────────────────────────────────────\n",
       "                                                          │                                                              \n",
       " ancilla_5 -> 10 ─────────────────────────────────────────┼──────────────────────────────────────────────────────────────\n",
       "                 ┌────┐ ┌──────────────┐┌────┐┌────────┐┌─┴─┐            ┌────┐     ┌───────────────┐┌────────┐  ┌────┐  \n",
       "       q_5 -> 11 ┤ √X ├─┤ Rz(p[5] + π) ├┤ √X ├┤ Rz(3π) ├┤ X ├──■─────────┤ √X ├─────┤ Rz(p[17] + π) ├┤ Rz(-π) ├──┤ √X ├──\n",
       "                 └────┘ └──────────────┘└────┘└────────┘└───┘  │         └────┘     └───────────────┘└────────┘  └────┘  \n",
       " ancilla_6 -> 12 ──────────────────────────────────────────────┼─────────────────────────────────────────────────────────\n",
       "                                                               │                                                         \n",
       " ancilla_7 -> 13 ──────────────────────────────────────────────┼─────────────────────────────────────────────────────────\n",
       "                 ┌────┐ ┌──────────────┐┌────┐┌────────┐     ┌─┴─┐       ┌────┐     ┌───────────────┐  ┌────┐  ┌────────┐\n",
       "       q_6 -> 14 ┤ √X ├─┤ Rz(p[6] + π) ├┤ √X ├┤ Rz(3π) ├──■──┤ X ├───────┤ √X ├─────┤ Rz(p[18] + π) ├──┤ √X ├──┤ Rz(3π) ├\n",
       "                 └────┘ └──────────────┘└────┘└────────┘  │  └───┘       └────┘     └───────────────┘  └────┘  └────────┘\n",
       " ancilla_8 -> 15 ─────────────────────────────────────────┼──────────────────────────────────────────────────────────────\n",
       "                 ┌────┐ ┌──────────────┐┌────┐┌────────┐┌─┴─┐            ┌────┐     ┌───────────────┐  ┌────┐  ┌────────┐\n",
       "       q_7 -> 16 ┤ √X ├─┤ Rz(p[7] + π) ├┤ √X ├┤ Rz(3π) ├┤ X ├──■─────────┤ √X ├─────┤ Rz(p[19] + π) ├──┤ √X ├──┤ Rz(3π) ├\n",
       "                 └────┘ └──────────────┘└────┘└────────┘└───┘  │         └────┘     └───────────────┘  └────┘  └────────┘\n",
       " ancilla_9 -> 17 ──────────────────────────────────────────────┼─────────────────────────────────────────────────────────\n",
       "                                                               │                                                         \n",
       "ancilla_10 -> 18 ──────────────────────────────────────────────┼─────────────────────────────────────────────────────────\n",
       "                 ┌────┐ ┌──────────────┐┌────┐┌────────┐     ┌─┴─┐       ┌────┐     ┌───────────────┐┌────────┐  ┌────┐  \n",
       "       q_8 -> 19 ┤ √X ├─┤ Rz(p[8] + π) ├┤ √X ├┤ Rz(3π) ├──■──┤ X ├───────┤ √X ├─────┤ Rz(p[20] + π) ├┤ Rz(-π) ├──┤ √X ├──\n",
       "                 └────┘ └──────────────┘└────┘└────────┘  │  └───┘       └────┘     └───────────────┘└────────┘  └────┘  \n",
       "ancilla_11 -> 20 ─────────────────────────────────────────┼──────────────────────────────────────────────────────────────\n",
       "                                                          │                                                              \n",
       "ancilla_12 -> 21 ─────────────────────────────────────────┼──────────────────────────────────────────────────────────────\n",
       "                 ┌────┐ ┌──────────────┐┌────┐┌────────┐┌─┴─┐            ┌────┐     ┌───────────────┐┌────────┐  ┌────┐  \n",
       "       q_9 -> 22 ┤ √X ├─┤ Rz(p[9] + π) ├┤ √X ├┤ Rz(3π) ├┤ X ├──■─────────┤ √X ├─────┤ Rz(p[21] + π) ├┤ Rz(-π) ├──┤ √X ├──\n",
       "                 └────┘ └──────────────┘└────┘└────────┘└───┘  │         └────┘     └───────────────┘└────────┘  └────┘  \n",
       "ancilla_13 -> 23 ──────────────────────────────────────────────┼─────────────────────────────────────────────────────────\n",
       "                                                               │                                                         \n",
       "ancilla_14 -> 24 ──────────────────────────────────────────────┼─────────────────────────────────────────────────────────\n",
       "                 ┌────┐┌───────────────┐┌────┐┌────────┐     ┌─┴─┐       ┌────┐     ┌───────────────┐┌────────┐  ┌────┐  \n",
       "      q_10 -> 25 ┤ √X ├┤ Rz(p[10] + π) ├┤ √X ├┤ Rz(3π) ├──■──┤ X ├───────┤ √X ├─────┤ Rz(p[22] + π) ├┤ Rz(-π) ├──┤ √X ├──\n",
       "                 ├────┤├───────────────┤├────┤├────────┤┌─┴─┐├───┴┐┌─────┴────┴────┐└───┬────────┬──┘└─┬────┬─┘  └────┘  \n",
       "      q_11 -> 26 ┤ √X ├┤ Rz(p[11] + π) ├┤ √X ├┤ Rz(3π) ├┤ X ├┤ √X ├┤ Rz(p[23] + π) ├────┤ Rz(-π) ├─────┤ √X ├────────────\n",
       "                 └────┘└───────────────┘└────┘└────────┘└───┘└────┘└───────────────┘    └────────┘     └────┘            </pre>"
      ],
      "text/plain": [
       "                                                                                                                         \n",
       "  ancilla_0 -> 0 ────────────────────────────────────────────────────────────────────────────────────────────────────────\n",
       "                 ┌────┐ ┌──────────────┐┌────┐┌────────┐     ┌────┐┌───────────────┐      ┌────┐     ┌────────┐          \n",
       "        q_0 -> 1 ┤ √X ├─┤ Rz(p[0] + π) ├┤ √X ├┤ Rz(3π) ├──■──┤ √X ├┤ Rz(p[12] + π) ├──────┤ √X ├─────┤ Rz(3π) ├──────────\n",
       "                 ├────┤ ├──────────────┤├────┤├────────┤┌─┴─┐└────┘└─────┬────┬────┘┌─────┴────┴────┐└─┬────┬─┘┌────────┐\n",
       "        q_1 -> 2 ┤ √X ├─┤ Rz(p[1] + π) ├┤ √X ├┤ Rz(3π) ├┤ X ├──■─────────┤ √X ├─────┤ Rz(p[13] + π) ├──┤ √X ├──┤ Rz(3π) ├\n",
       "                 ├────┤ ├──────────────┤├────┤├────────┤└───┘┌─┴─┐       ├────┤     ├───────────────┤┌─┴────┴─┐└─┬────┬─┘\n",
       "        q_2 -> 3 ┤ √X ├─┤ Rz(p[2] + π) ├┤ √X ├┤ Rz(3π) ├──■──┤ X ├───────┤ √X ├─────┤ Rz(p[14] + π) ├┤ Rz(-π) ├──┤ √X ├──\n",
       "                 └────┘ └──────────────┘└────┘└────────┘  │  └───┘       └────┘     └───────────────┘└────────┘  └────┘  \n",
       "  ancilla_1 -> 4 ─────────────────────────────────────────┼──────────────────────────────────────────────────────────────\n",
       "                 ┌────┐ ┌──────────────┐┌────┐┌────────┐┌─┴─┐            ┌────┐     ┌───────────────┐┌────────┐  ┌────┐  \n",
       "        q_3 -> 5 ┤ √X ├─┤ Rz(p[3] + π) ├┤ √X ├┤ Rz(3π) ├┤ X ├──■─────────┤ √X ├─────┤ Rz(p[15] + π) ├┤ Rz(-π) ├──┤ √X ├──\n",
       "                 └────┘ └──────────────┘└────┘└────────┘└───┘  │         └────┘     └───────────────┘└────────┘  └────┘  \n",
       "  ancilla_2 -> 6 ──────────────────────────────────────────────┼─────────────────────────────────────────────────────────\n",
       "                                                               │                                                         \n",
       "  ancilla_3 -> 7 ──────────────────────────────────────────────┼─────────────────────────────────────────────────────────\n",
       "                 ┌────┐ ┌──────────────┐┌────┐┌────────┐     ┌─┴─┐       ┌────┐     ┌───────────────┐┌────────┐  ┌────┐  \n",
       "        q_4 -> 8 ┤ √X ├─┤ Rz(p[4] + π) ├┤ √X ├┤ Rz(3π) ├──■──┤ X ├───────┤ √X ├─────┤ Rz(p[16] + π) ├┤ Rz(-π) ├──┤ √X ├──\n",
       "                 └────┘ └──────────────┘└────┘└────────┘  │  └───┘       └────┘     └───────────────┘└────────┘  └────┘  \n",
       "  ancilla_4 -> 9 ─────────────────────────────────────────┼──────────────────────────────────────────────────────────────\n",
       "                                                          │                                                              \n",
       " ancilla_5 -> 10 ─────────────────────────────────────────┼──────────────────────────────────────────────────────────────\n",
       "                 ┌────┐ ┌──────────────┐┌────┐┌────────┐┌─┴─┐            ┌────┐     ┌───────────────┐┌────────┐  ┌────┐  \n",
       "       q_5 -> 11 ┤ √X ├─┤ Rz(p[5] + π) ├┤ √X ├┤ Rz(3π) ├┤ X ├──■─────────┤ √X ├─────┤ Rz(p[17] + π) ├┤ Rz(-π) ├──┤ √X ├──\n",
       "                 └────┘ └──────────────┘└────┘└────────┘└───┘  │         └────┘     └───────────────┘└────────┘  └────┘  \n",
       " ancilla_6 -> 12 ──────────────────────────────────────────────┼─────────────────────────────────────────────────────────\n",
       "                                                               │                                                         \n",
       " ancilla_7 -> 13 ──────────────────────────────────────────────┼─────────────────────────────────────────────────────────\n",
       "                 ┌────┐ ┌──────────────┐┌────┐┌────────┐     ┌─┴─┐       ┌────┐     ┌───────────────┐  ┌────┐  ┌────────┐\n",
       "       q_6 -> 14 ┤ √X ├─┤ Rz(p[6] + π) ├┤ √X ├┤ Rz(3π) ├──■──┤ X ├───────┤ √X ├─────┤ Rz(p[18] + π) ├──┤ √X ├──┤ Rz(3π) ├\n",
       "                 └────┘ └──────────────┘└────┘└────────┘  │  └───┘       └────┘     └───────────────┘  └────┘  └────────┘\n",
       " ancilla_8 -> 15 ─────────────────────────────────────────┼──────────────────────────────────────────────────────────────\n",
       "                 ┌────┐ ┌──────────────┐┌────┐┌────────┐┌─┴─┐            ┌────┐     ┌───────────────┐  ┌────┐  ┌────────┐\n",
       "       q_7 -> 16 ┤ √X ├─┤ Rz(p[7] + π) ├┤ √X ├┤ Rz(3π) ├┤ X ├──■─────────┤ √X ├─────┤ Rz(p[19] + π) ├──┤ √X ├──┤ Rz(3π) ├\n",
       "                 └────┘ └──────────────┘└────┘└────────┘└───┘  │         └────┘     └───────────────┘  └────┘  └────────┘\n",
       " ancilla_9 -> 17 ──────────────────────────────────────────────┼─────────────────────────────────────────────────────────\n",
       "                                                               │                                                         \n",
       "ancilla_10 -> 18 ──────────────────────────────────────────────┼─────────────────────────────────────────────────────────\n",
       "                 ┌────┐ ┌──────────────┐┌────┐┌────────┐     ┌─┴─┐       ┌────┐     ┌───────────────┐┌────────┐  ┌────┐  \n",
       "       q_8 -> 19 ┤ √X ├─┤ Rz(p[8] + π) ├┤ √X ├┤ Rz(3π) ├──■──┤ X ├───────┤ √X ├─────┤ Rz(p[20] + π) ├┤ Rz(-π) ├──┤ √X ├──\n",
       "                 └────┘ └──────────────┘└────┘└────────┘  │  └───┘       └────┘     └───────────────┘└────────┘  └────┘  \n",
       "ancilla_11 -> 20 ─────────────────────────────────────────┼──────────────────────────────────────────────────────────────\n",
       "                                                          │                                                              \n",
       "ancilla_12 -> 21 ─────────────────────────────────────────┼──────────────────────────────────────────────────────────────\n",
       "                 ┌────┐ ┌──────────────┐┌────┐┌────────┐┌─┴─┐            ┌────┐     ┌───────────────┐┌────────┐  ┌────┐  \n",
       "       q_9 -> 22 ┤ √X ├─┤ Rz(p[9] + π) ├┤ √X ├┤ Rz(3π) ├┤ X ├──■─────────┤ √X ├─────┤ Rz(p[21] + π) ├┤ Rz(-π) ├──┤ √X ├──\n",
       "                 └────┘ └──────────────┘└────┘└────────┘└───┘  │         └────┘     └───────────────┘└────────┘  └────┘  \n",
       "ancilla_13 -> 23 ──────────────────────────────────────────────┼─────────────────────────────────────────────────────────\n",
       "                                                               │                                                         \n",
       "ancilla_14 -> 24 ──────────────────────────────────────────────┼─────────────────────────────────────────────────────────\n",
       "                 ┌────┐┌───────────────┐┌────┐┌────────┐     ┌─┴─┐       ┌────┐     ┌───────────────┐┌────────┐  ┌────┐  \n",
       "      q_10 -> 25 ┤ √X ├┤ Rz(p[10] + π) ├┤ √X ├┤ Rz(3π) ├──■──┤ X ├───────┤ √X ├─────┤ Rz(p[22] + π) ├┤ Rz(-π) ├──┤ √X ├──\n",
       "                 ├────┤├───────────────┤├────┤├────────┤┌─┴─┐├───┴┐┌─────┴────┴────┐└───┬────────┬──┘└─┬────┬─┘  └────┘  \n",
       "      q_11 -> 26 ┤ √X ├┤ Rz(p[11] + π) ├┤ √X ├┤ Rz(3π) ├┤ X ├┤ √X ├┤ Rz(p[23] + π) ├────┤ Rz(-π) ├─────┤ √X ├────────────\n",
       "                 └────┘└───────────────┘└────┘└────────┘└───┘└────┘└───────────────┘    └────────┘     └────┘            "
      ]
     },
     "execution_count": 3,
     "metadata": {},
     "output_type": "execute_result"
    }
   ],
   "source": [
    "n_qubits = 12\n",
    "n_layers = 1\n",
    "c = QuantumCircuit(n_qubits)\n",
    "pv = ParameterVector(\"p\", (n_layers + 1) * n_qubits)\n",
    "# R_y circuit with linear qubit connectivity and parallel CNOTs\n",
    "for i in range(n_qubits):\n",
    "    c.ry(pv[i], i)\n",
    "for j in range(n_layers):\n",
    "    assert n_qubits % 2 == 0\n",
    "    for i in range(n_qubits // 2):\n",
    "        c.cnot(2*i, 2*i+1)\n",
    "    for i in range(n_qubits // 2 - 1):\n",
    "        c.cnot(2*i+1, 2*i+2)\n",
    "    for i in range(n_qubits):\n",
    "        c.ry(pv[(j+1)*n_qubits + i], i)\n",
    "# these indices ensures that when all parameters are set to 0, the output state is the HF state 001111001111\n",
    "for i in [2, 3, 4, 5, 8, 9, 10, 11]:\n",
    "    c.x(i)\n",
    "c = transpile(c, backend=system_model)\n",
    "c.draw(fold=400)"
   ]
  },
  {
   "cell_type": "code",
   "execution_count": 4,
   "id": "f410ee16-657c-40f1-a059-1259557ee390",
   "metadata": {},
   "outputs": [
    {
     "data": {
      "image/png": "[encoded data removed]",
      "text/plain": [
       "<Figure size 500x500 with 1 Axes>"
      ]
     },
     "execution_count": 4,
     "metadata": {},
     "output_type": "execute_result"
    }
   ],
   "source": [
    "from qiskit.visualization import plot_circuit_layout\n",
    "plot_circuit_layout(c, system_model)"
   ]
  },
  {
   "cell_type": "code",
   "execution_count": 5,
   "id": "2f306e5b-7908-4dea-af17-03da4cc817a4",
   "metadata": {},
   "outputs": [
    {
     "data": {
      "text/plain": [
       "5024"
      ]
     },
     "execution_count": 5,
     "metadata": {},
     "output_type": "execute_result"
    }
   ],
   "source": [
    "# obtain the duration. \n",
    "# No transpilation happens after binding the parameters so this is the final circuit and duration\n",
    "with pulse.build(system_model) as my_program1:\n",
    "    with pulse.transpiler_settings(optimization_level=0):\n",
    "        pulse.call(c)\n",
    "my_program1.duration"
   ]
  },
  {
   "cell_type": "markdown",
   "id": "a091d629-bca8-44e6-a651-cfb58644599c",
   "metadata": {
    "jp-MarkdownHeadingCollapsed": true,
    "tags": []
   },
   "source": [
    "## Obtain the Hamiltonian as QubitOperator\n",
    "Use TenCirChem to obtain the qubit operators with Jordan-Wigner transformation.\n",
    "Do not use the operators provided in the official GitHub repo because I'm more familiar with the convention in TenCirChem (in terms of the orbital ordering, etc.)"
   ]
  },
  {
   "cell_type": "code",
   "execution_count": 6,
   "id": "ffdb93f9-171b-4d03-9c44-6af99a0a8c88",
   "metadata": {},
   "outputs": [],
   "source": [
    "import numpy as np\n",
    "\n",
    "from tencirchem import M, UCC\n",
    "\n",
    "from qiskit.quantum_info import SparsePauliOp, Pauli\n",
    "\n",
    "ultra_simplified_ala_string = \"\"\"\n",
    "O 0.0 0.0 0.0\n",
    "H 0.45 -0.1525 -0.8454\n",
    "\"\"\"\n",
    "m = M(atom=ultra_simplified_ala_string, charge=1)\n",
    "ucc = UCC(m, init_method=\"zero\", run_mp2=False, run_ccsd=False)"
   ]
  },
  {
   "cell_type": "code",
   "execution_count": 7,
   "id": "9f2bc29c-28e8-4757-912c-409e0b4bf1a7",
   "metadata": {},
   "outputs": [
    {
     "data": {
      "text/plain": [
       "631"
      ]
     },
     "execution_count": 7,
     "metadata": {},
     "output_type": "execute_result"
    }
   ],
   "source": [
    "# total number of terms is 631\n",
    "len(ucc.h_qubit_op.terms)"
   ]
  },
  {
   "cell_type": "markdown",
   "id": "a86bd2b7-d445-4695-acd2-d501dee900a5",
   "metadata": {
    "jp-MarkdownHeadingCollapsed": true,
    "tags": []
   },
   "source": [
    "## Group and Simplify the Pauli Operators\n",
    "\n",
    "The ground state wavefunction of chemical systems is usually dominated by the HF state. This can be exploited to reduce the number of terms in the Hamitlonian. More specifically, we may combine terms such as $XX$ and $YY$ because they may have the same expectation value (up to a phase).\n",
    "This simplification is not exact, but as shown below the accuracy is satisfactory.\n",
    "\n",
    "Another benefit of the method is that it significantly reduces the number of terms that do not commute, which will be shown below."
   ]
  },
  {
   "cell_type": "code",
   "execution_count": 8,
   "id": "cebd9f04-09db-433e-bf17-b3faeca55af5",
   "metadata": {},
   "outputs": [],
   "source": [
    "# Check if we can merge the two Pauli strings.\n",
    "# The criteria is that, assume X and Y are the same symbol, the two Pauli strings are identical.\n",
    "# The terms that can be combined are successive in the operator list, which can be inspected with `ucc.h_qubit_op.terms`\n",
    "def is_from_same_term(k1, k2):\n",
    "    # input example: k1: ((4, 'Y'), (5, 'Y'), (8, 'Z')) ((4, 'Y'), (5, 'Y'), (7, 'Z'))\n",
    "    #                k2: ((4, 'Y'), (5, 'Y'), (8, 'Z')) ((4, 'X'), (5, 'X'), (7, 'Z'))\n",
    "    if len(k1) != len(k2):\n",
    "        return False\n",
    "    for t1, t2 in zip(k1, k2):\n",
    "        if t1[0] != t2[0]:\n",
    "            return False\n",
    "        if t1[1] != t2[1]:\n",
    "            if set([t1[1], t2[1]]) != {\"X\", \"Y\"}:\n",
    "                return False\n",
    "    return True"
   ]
  },
  {
   "cell_type": "code",
   "execution_count": 9,
   "id": "a3076fd1-48e7-408b-9629-a5968e7980da",
   "metadata": {},
   "outputs": [],
   "source": [
    "target_state = \"001111001111\"\n",
    "# Get the phase after acting the Pauli string on the target HF state\n",
    "def get_phase(k):\n",
    "    phase = 1\n",
    "    for i, symbol in k:\n",
    "        if symbol == \"Z\":\n",
    "            continue\n",
    "        elif symbol == \"X\":\n",
    "            continue\n",
    "        elif symbol == \"Y\":\n",
    "            if target_state[i] == \"0\":\n",
    "                phase *= 1j\n",
    "            else:\n",
    "                phase *= -1j\n",
    "        else:\n",
    "            assert False\n",
    "            \n",
    "    assert phase.imag == 0\n",
    "    return phase.real"
   ]
  },
  {
   "cell_type": "code",
   "execution_count": 10,
   "id": "1c9a8799-7f5a-4289-b899-6c9508b0d28d",
   "metadata": {},
   "outputs": [],
   "source": [
    "# Combine terms in the Hamiltonian\n",
    "ks = []\n",
    "vs = []\n",
    "for k, v in ucc.h_qubit_op.terms.items():\n",
    "    ks.append(k)\n",
    "    vs.append(v)\n",
    "new_ks = []\n",
    "new_vs = []\n",
    "while len(ks) != 0:\n",
    "    # take the first term as the reference\n",
    "    k_ref = ks[0]\n",
    "    v_ref = vs[0]\n",
    "    # three different cases: 0/2/4 operators can be combined\n",
    "    stride = 1\n",
    "    if len(vs) > 1 and is_from_same_term(ks[1], k_ref):\n",
    "        stride = 2\n",
    "        if len(vs) > 2 and is_from_same_term(ks[2], k_ref):\n",
    "            assert is_from_same_term(ks[3], k_ref)\n",
    "            stride = 4\n",
    "    # summing up the coefficients\n",
    "    new_v = v_ref\n",
    "    phase_ref = get_phase(k_ref)\n",
    "    for i in range(1, stride):\n",
    "        k = ks[i]\n",
    "        v = vs[i]\n",
    "        new_v += phase_ref * get_phase(k) * v\n",
    "    new_ks.append(k_ref)\n",
    "    new_vs.append(new_v)\n",
    "    ks = ks[stride:]\n",
    "    vs = vs[stride:]"
   ]
  },
  {
   "cell_type": "code",
   "execution_count": 11,
   "id": "632781a4-7bd4-48b1-9679-87f4fcff30af",
   "metadata": {},
   "outputs": [
    {
     "data": {
      "text/plain": [
       "284"
      ]
     },
     "execution_count": 11,
     "metadata": {},
     "output_type": "execute_result"
    }
   ],
   "source": [
    "# the number of terms after the reduction\n",
    "len(new_ks)"
   ]
  },
  {
   "cell_type": "code",
   "execution_count": 12,
   "id": "af7f9104-6d26-4fb2-b1ec-cf27e020cd1f",
   "metadata": {},
   "outputs": [],
   "source": [
    "# prepare conversion to Qiskit format for energy estimation\n",
    "pauli_list = []\n",
    "coeffs_list = []\n",
    "for k, v in zip(new_ks, new_vs):\n",
    "    s = [\"I\"] * 12\n",
    "    for i, symbol in k:\n",
    "        s[n_qubits-1-i] = symbol\n",
    "    s = \"\".join(s)\n",
    "    pauli_list.append(s)\n",
    "    coeffs_list.append(v)"
   ]
  },
  {
   "cell_type": "code",
   "execution_count": 13,
   "id": "9b14a722-8beb-4c2b-b200-47745b1bb373",
   "metadata": {},
   "outputs": [
    {
     "data": {
      "text/plain": [
       "141"
      ]
     },
     "execution_count": 13,
     "metadata": {},
     "output_type": "execute_result"
    }
   ],
   "source": [
    "# convert the Hamiltonian operator into Qiskit format\n",
    "# take care of the mapping from virtual operators to physical qubits since the operators are 12 qubits but the circuit is 27 qubits\n",
    "virtual_bit_map = c.layout.initial_layout.get_virtual_bits()\n",
    "mapping = {q._index: i for q, i in virtual_bit_map.items() if q._register.name == \"q\"}\n",
    "new_pauli_list = []\n",
    "for s in pauli_list:\n",
    "    assert len(s) == n_qubits\n",
    "    new_s = [\"I\"] * 27\n",
    "    for i, symbol in enumerate(s[::-1]):\n",
    "        new_i = system_model.configuration().n_qubits - 1 - mapping[i]\n",
    "        # print(i, new_i, symbol)\n",
    "        new_s[new_i] = symbol\n",
    "    new_pauli_list.append(\"\".join(new_s))\n",
    "qubit_op = SparsePauliOp(new_pauli_list, coeffs=coeffs_list)\n",
    "# eliminate terms that have small coefficients. This is an approximation with reasonable accuracy.\n",
    "qubit_op = qubit_op.chop(1e-2)\n",
    "# the final number of terms\n",
    "len(qubit_op)"
   ]
  },
  {
   "cell_type": "code",
   "execution_count": 14,
   "id": "11926af2-efde-46dc-850a-080c9d9e087f",
   "metadata": {},
   "outputs": [
    {
     "data": {
      "text/plain": [
       "20"
      ]
     },
     "execution_count": 14,
     "metadata": {},
     "output_type": "execute_result"
    }
   ],
   "source": [
    "# The number of mesurement groups during measurement\n",
    "len(qubit_op.group_commuting(qubit_wise=True))"
   ]
  },
  {
   "cell_type": "markdown",
   "id": "935d5b08-3c89-40aa-988a-2ca38fd2f90f",
   "metadata": {
    "jp-MarkdownHeadingCollapsed": true,
    "tags": []
   },
   "source": [
    "## Estimate the Energy"
   ]
  },
  {
   "cell_type": "code",
   "execution_count": 15,
   "id": "1f2fb019-a6b7-459d-8e0d-96e37c4506b7",
   "metadata": {},
   "outputs": [],
   "source": [
    "# pre-optimized parameters\n",
    "params = np.array([-2.03398892e-04, -4.15622035e-04, -7.24161680e-05, 1.09710025e-04,\n",
    "  1.31789033e-05, -3.40277090e-06,  7.24185393e-04,-4.91700987e-01,\n",
    "  8.81924698e-05,  8.16163577e-05, -4.51390009e-06, 4.37765082e-02,\n",
    "  5.55411728e-04,  3.14232489e+00, -1.32248519e-03, 2.55558786e-05,\n",
    "  3.84389308e-04, -2.82906559e-05,  3.22800688e-04, 1.12892004e-03,\n",
    " -4.88599954e-04,  2.99351879e-04, -1.88525987e-04,-4.37794871e-02,])"
   ]
  },
  {
   "cell_type": "code",
   "execution_count": 16,
   "id": "e4e24e47-32e3-4c59-bef7-cef75b55b2ed",
   "metadata": {},
   "outputs": [],
   "source": [
    "# params for error mitigation\n",
    "params_em = np.zeros_like(params)"
   ]
  },
  {
   "cell_type": "code",
   "execution_count": 17,
   "id": "38e02664-bc5c-468f-9ad1-3b2c62c9b775",
   "metadata": {},
   "outputs": [
    {
     "data": {
      "text/plain": [
       "'OPENQASM 2.0;\\ninclude \"qelib1.inc\";\\nqreg q[27];\\nsx q[1];\\nrz(pi) q[1];\\nsx q[1];\\nrz(3*pi) q[1];\\nsx q[2];\\nrz(pi) q[2];\\nsx q[2];\\nrz(3*pi) q[2];\\ncx q[1],q[2];\\nsx q[1];\\nrz(pi) q[1];\\nsx q[1];\\nrz(3*pi) q[1];\\nsx q[3];\\nrz(pi) q[3];\\nsx q[3];\\nrz(3*pi) q[3];\\nsx q[5];\\nrz(pi) q[5];\\nsx q[5];\\nrz(3*pi) q[5];\\ncx q[3],q[5];\\ncx q[2],q[3];\\nsx q[2];\\nrz(pi) q[2];\\nsx q[2];\\nrz(3*pi) q[2];\\nsx q[3];\\nrz(pi) q[3];\\nrz(-pi) q[3];\\nsx q[3];\\nsx q[8];\\nrz(pi) q[8];\\nsx q[8];\\nrz(3*pi) q[8];\\nsx q[11];\\nrz(pi) q[11];\\nsx q[11];\\nrz(3*pi) q[11];\\ncx q[8],q[11];\\ncx q[5],q[8];\\nsx q[5];\\nrz(pi) q[5];\\nrz(-pi) q[5];\\nsx q[5];\\nsx q[8];\\nrz(pi) q[8];\\nrz(-pi) q[8];\\nsx q[8];\\nsx q[14];\\nrz(pi) q[14];\\nsx q[14];\\nrz(3*pi) q[14];\\nsx q[16];\\nrz(pi) q[16];\\nsx q[16];\\nrz(3*pi) q[16];\\ncx q[14],q[16];\\ncx q[11],q[14];\\nsx q[11];\\nrz(pi) q[11];\\nrz(-pi) q[11];\\nsx q[11];\\nsx q[14];\\nrz(pi) q[14];\\nsx q[14];\\nrz(3*pi) q[14];\\nsx q[19];\\nrz(pi) q[19];\\nsx q[19];\\nrz(3*pi) q[19];\\nsx q[22];\\nrz(pi) q[22];\\nsx q[22];\\nrz(3*pi) q[22];\\ncx q[19],q[22];\\ncx q[16],q[19];\\nsx q[16];\\nrz(pi) q[16];\\nsx q[16];\\nrz(3*pi) q[16];\\nsx q[19];\\nrz(pi) q[19];\\nrz(-pi) q[19];\\nsx q[19];\\nsx q[25];\\nrz(pi) q[25];\\nsx q[25];\\nrz(3*pi) q[25];\\nsx q[26];\\nrz(pi) q[26];\\nsx q[26];\\nrz(3*pi) q[26];\\ncx q[25],q[26];\\ncx q[22],q[25];\\nsx q[22];\\nrz(pi) q[22];\\nrz(-pi) q[22];\\nsx q[22];\\nsx q[25];\\nrz(pi) q[25];\\nrz(-pi) q[25];\\nsx q[25];\\nsx q[26];\\nrz(pi) q[26];\\nrz(-pi) q[26];\\nsx q[26];\\n'"
      ]
     },
     "execution_count": 17,
     "metadata": {},
     "output_type": "execute_result"
    }
   ],
   "source": [
    "# we use the same circuit for all three different noise models\n",
    "c1 = c.bind_parameters(params)\n",
    "c2 = c.bind_parameters(params_em)\n",
    "c1.qasm(filename=\"circuit.txt\")\n",
    "c2.qasm(filename=\"circuit_em.txt\")"
   ]
  },
  {
   "cell_type": "code",
   "execution_count": 18,
   "id": "6626e29b-8464-492d-8127-94bf236420a4",
   "metadata": {},
   "outputs": [
    {
     "name": "stderr",
     "output_type": "stream",
     "text": [
      "/data/home/weitangli/miniconda3/envs/cq/lib/python3.7/site-packages/ipykernel_launcher.py:8: DeprecationWarning: from_dict has been deprecated as of qiskit-aer 0.10.0 and will be removed no earlier than 3 months from that release date.\n",
      "  \n"
     ]
    }
   ],
   "source": [
    "import pickle\n",
    "from qiskit_aer.primitives import Estimator\n",
    "from qiskit.providers.aer.noise import NoiseModel\n",
    "\n",
    "with open('NoiseModel/fakemontreal.pkl', 'rb') as file:\n",
    "    noise_model = pickle.load(file)\n",
    "\n",
    "noise_modelreal = NoiseModel.from_dict(noise_model)\n",
    "\n",
    "shot = 6000\n",
    "seeds = 170\n",
    "estimator = Estimator(\n",
    "    backend_options = {\n",
    "        'method': 'statevector',\n",
    "        'device': 'CPU',\n",
    "        'noise_model': noise_modelreal\n",
    "    },\n",
    "    run_options = {\n",
    "        'shots': shot,\n",
    "        'seed': seeds,\n",
    "    },\n",
    "    skip_transpilation=True\n",
    ")"
   ]
  },
  {
   "cell_type": "code",
   "execution_count": 19,
   "id": "ddbd378a-7ed3-4ce9-af2b-99bbf5310fa4",
   "metadata": {},
   "outputs": [],
   "source": [
    "# run circuit for two times.\n",
    "e_qc, e_qc_hf = estimator.run([c1, c2], [qubit_op, qubit_op]).result().values"
   ]
  },
  {
   "cell_type": "code",
   "execution_count": 20,
   "id": "1ddc3a36-5b75-437f-be7f-da82d049eacb",
   "metadata": {},
   "outputs": [
    {
     "data": {
      "text/plain": [
       "240000"
      ]
     },
     "execution_count": 20,
     "metadata": {},
     "output_type": "execute_result"
    }
   ],
   "source": [
    "# the total number of shots is thus \n",
    "2 * len(qubit_op.group_commuting(qubit_wise=True)) * shot"
   ]
  },
  {
   "cell_type": "code",
   "execution_count": 21,
   "id": "54e9daae-ff70-4289-a388-e34cf54fe777",
   "metadata": {},
   "outputs": [],
   "source": [
    "e_qc, e_qc_hf = [-72.31645638, -71.74533281]"
   ]
  },
  {
   "cell_type": "code",
   "execution_count": 22,
   "id": "8c649f83-5bfd-4b9c-a809-8d2bae29639f",
   "metadata": {},
   "outputs": [],
   "source": [
    "# Reference state error mitigation. Use HF as the reference state. See https://pubs.acs.org/doi/10.1021/acs.jctc.2c00807 for details.\n",
    "e_final = e_qc + (ucc.e_hf - e_qc_hf)"
   ]
  },
  {
   "cell_type": "code",
   "execution_count": 23,
   "id": "7b3c8eda-cde2-4d97-a093-f7ff83a97648",
   "metadata": {},
   "outputs": [
    {
     "data": {
      "text/plain": [
       "-74.46179306686493"
      ]
     },
     "execution_count": 23,
     "metadata": {},
     "output_type": "execute_result"
    }
   ],
   "source": [
    "e_final"
   ]
  },
  {
   "cell_type": "code",
   "execution_count": 24,
   "id": "82580958-3e91-447f-8985-f2f8f3d66f0a",
   "metadata": {},
   "outputs": [
    {
     "name": "stdout",
     "output_type": "stream",
     "text": [
      "Error rate: 0.100349%\n"
     ]
    }
   ],
   "source": [
    "ref_value = -74.38714627\n",
    "error_rate = abs(abs(ref_value - e_final) / ref_value * 100)\n",
    "print(\"Error rate: %f%%\" % (error_rate))"
   ]
  },
  {
   "cell_type": "markdown",
   "id": "ef956630-5429-487e-b769-65f3a37f94cd",
   "metadata": {
    "jp-MarkdownHeadingCollapsed": true,
    "tags": []
   },
   "source": [
    "## Conclusion\n",
    "\n",
    "The error rate of this solution is approximately 0.1%. The total number of shots is 240000. The circuit duration is 5024.\n",
    "\n",
    "Since the total number of shots is below 1800000, we may increase the number of shots for each term. This is not considered here because slightly higher variance can do no harm :)\n",
    "\n",
    "The key to the success is\n",
    "- A shallow and efficient $R_y$ circuit to achieve short circuit duration and low error rate\n",
    "- An efficient Pauli grouping method that greatly reduces the number terms as well as commuting groups\n",
    "- Reference state error mitigation that has minimal overhead and offers high accuracy"
   ]
  },
  {
   "cell_type": "code",
   "execution_count": null,
   "id": "893273e3-09e9-4986-8c5c-e0cfbfcfa0ea",
   "metadata": {},
   "outputs": [],
   "source": []
  }
 ],
 "metadata": {
  "kernelspec": {
   "display_name": "Python 3 (ipykernel)",
   "language": "python",
   "name": "python3"
  },
  "language_info": {
   "codemirror_mode": {
    "name": "ipython",
    "version": 3
   },
   "file_extension": ".py",
   "mimetype": "text/x-python",
   "name": "python",
   "nbconvert_exporter": "python",
   "pygments_lexer": "ipython3",
   "version": "3.7.13"
  }
 },
 "nbformat": 4,
 "nbformat_minor": 5
}
